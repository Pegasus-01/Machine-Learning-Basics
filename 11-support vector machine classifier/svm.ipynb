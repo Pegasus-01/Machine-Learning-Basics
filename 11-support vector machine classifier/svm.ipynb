{
 "cells": [
  {
   "cell_type": "code",
   "execution_count": 1,
   "metadata": {},
   "outputs": [],
   "source": [
    "import os"
   ]
  },
  {
   "cell_type": "code",
   "execution_count": 2,
   "metadata": {},
   "outputs": [
    {
     "name": "stdout",
     "output_type": "stream",
     "text": [
      "['.ipynb_checkpoints', 'Social_Network_Ads.csv', 'svm.ipynb']\n"
     ]
    }
   ],
   "source": [
    "print(os.listdir())"
   ]
  },
  {
   "cell_type": "code",
   "execution_count": 3,
   "metadata": {},
   "outputs": [],
   "source": [
    "import numpy as np\n",
    "import pandas as pd\n",
    "import matplotlib.pyplot as plt\n",
    "%matplotlib inline"
   ]
  },
  {
   "cell_type": "code",
   "execution_count": 4,
   "metadata": {},
   "outputs": [],
   "source": [
    "data = pd.read_csv('Social_Network_Ads.csv')"
   ]
  },
  {
   "cell_type": "code",
   "execution_count": 5,
   "metadata": {},
   "outputs": [
    {
     "data": {
      "text/html": [
       "<div>\n",
       "<style scoped>\n",
       "    .dataframe tbody tr th:only-of-type {\n",
       "        vertical-align: middle;\n",
       "    }\n",
       "\n",
       "    .dataframe tbody tr th {\n",
       "        vertical-align: top;\n",
       "    }\n",
       "\n",
       "    .dataframe thead th {\n",
       "        text-align: right;\n",
       "    }\n",
       "</style>\n",
       "<table border=\"1\" class=\"dataframe\">\n",
       "  <thead>\n",
       "    <tr style=\"text-align: right;\">\n",
       "      <th></th>\n",
       "      <th>User ID</th>\n",
       "      <th>Gender</th>\n",
       "      <th>Age</th>\n",
       "      <th>EstimatedSalary</th>\n",
       "      <th>Purchased</th>\n",
       "    </tr>\n",
       "  </thead>\n",
       "  <tbody>\n",
       "    <tr>\n",
       "      <th>0</th>\n",
       "      <td>15624510</td>\n",
       "      <td>Male</td>\n",
       "      <td>19</td>\n",
       "      <td>19000</td>\n",
       "      <td>0</td>\n",
       "    </tr>\n",
       "    <tr>\n",
       "      <th>1</th>\n",
       "      <td>15810944</td>\n",
       "      <td>Male</td>\n",
       "      <td>35</td>\n",
       "      <td>20000</td>\n",
       "      <td>0</td>\n",
       "    </tr>\n",
       "    <tr>\n",
       "      <th>2</th>\n",
       "      <td>15668575</td>\n",
       "      <td>Female</td>\n",
       "      <td>26</td>\n",
       "      <td>43000</td>\n",
       "      <td>0</td>\n",
       "    </tr>\n",
       "    <tr>\n",
       "      <th>3</th>\n",
       "      <td>15603246</td>\n",
       "      <td>Female</td>\n",
       "      <td>27</td>\n",
       "      <td>57000</td>\n",
       "      <td>0</td>\n",
       "    </tr>\n",
       "    <tr>\n",
       "      <th>4</th>\n",
       "      <td>15804002</td>\n",
       "      <td>Male</td>\n",
       "      <td>19</td>\n",
       "      <td>76000</td>\n",
       "      <td>0</td>\n",
       "    </tr>\n",
       "  </tbody>\n",
       "</table>\n",
       "</div>"
      ],
      "text/plain": [
       "    User ID  Gender  Age  EstimatedSalary  Purchased\n",
       "0  15624510    Male   19            19000          0\n",
       "1  15810944    Male   35            20000          0\n",
       "2  15668575  Female   26            43000          0\n",
       "3  15603246  Female   27            57000          0\n",
       "4  15804002    Male   19            76000          0"
      ]
     },
     "execution_count": 5,
     "metadata": {},
     "output_type": "execute_result"
    }
   ],
   "source": [
    "data.head()"
   ]
  },
  {
   "cell_type": "code",
   "execution_count": 6,
   "metadata": {},
   "outputs": [
    {
     "name": "stdout",
     "output_type": "stream",
     "text": [
      "<class 'pandas.core.frame.DataFrame'>\n",
      "RangeIndex: 400 entries, 0 to 399\n",
      "Data columns (total 5 columns):\n",
      " #   Column           Non-Null Count  Dtype \n",
      "---  ------           --------------  ----- \n",
      " 0   User ID          400 non-null    int64 \n",
      " 1   Gender           400 non-null    object\n",
      " 2   Age              400 non-null    int64 \n",
      " 3   EstimatedSalary  400 non-null    int64 \n",
      " 4   Purchased        400 non-null    int64 \n",
      "dtypes: int64(4), object(1)\n",
      "memory usage: 15.8+ KB\n"
     ]
    }
   ],
   "source": [
    "data.info()"
   ]
  },
  {
   "cell_type": "code",
   "execution_count": 7,
   "metadata": {},
   "outputs": [],
   "source": [
    "X=data.iloc[:,[2,3]].values\n",
    "y=data.iloc[:,4].values"
   ]
  },
  {
   "cell_type": "code",
   "execution_count": 8,
   "metadata": {},
   "outputs": [],
   "source": [
    "from sklearn.model_selection import train_test_split"
   ]
  },
  {
   "cell_type": "code",
   "execution_count": 9,
   "metadata": {},
   "outputs": [],
   "source": [
    "X_train,X_test,y_train,y_test = train_test_split(X,y,test_size = 0.2)"
   ]
  },
  {
   "cell_type": "code",
   "execution_count": 10,
   "metadata": {},
   "outputs": [
    {
     "data": {
      "text/plain": [
       "array([[    34,  43000],\n",
       "       [    34, 112000],\n",
       "       [    35,  58000],\n",
       "       [    21,  68000],\n",
       "       [    29, 148000],\n",
       "       [    41,  60000],\n",
       "       [    26, 118000],\n",
       "       [    35, 147000],\n",
       "       [    35,  38000],\n",
       "       [    26,  15000],\n",
       "       [    35,  72000],\n",
       "       [    40,  75000],\n",
       "       [    53,  82000],\n",
       "       [    48, 141000],\n",
       "       [    27,  84000],\n",
       "       [    22,  81000],\n",
       "       [    39,  71000],\n",
       "       [    24,  23000],\n",
       "       [    59,  83000],\n",
       "       [    39,  79000],\n",
       "       [    49,  74000],\n",
       "       [    47,  25000],\n",
       "       [    52,  90000],\n",
       "       [    36,  50000],\n",
       "       [    27,  57000],\n",
       "       [    46,  59000],\n",
       "       [    27,  96000],\n",
       "       [    50,  36000],\n",
       "       [    37,  70000],\n",
       "       [    33,  69000],\n",
       "       [    59,  42000],\n",
       "       [    43, 129000],\n",
       "       [    41,  87000],\n",
       "       [    42,  65000],\n",
       "       [    24,  32000],\n",
       "       [    46,  82000],\n",
       "       [    31,  76000],\n",
       "       [    41,  52000],\n",
       "       [    45,  22000],\n",
       "       [    21,  16000],\n",
       "       [    59,  88000],\n",
       "       [    36,  33000],\n",
       "       [    37,  33000],\n",
       "       [    33,  51000],\n",
       "       [    30,  87000],\n",
       "       [    18,  86000],\n",
       "       [    28, 123000],\n",
       "       [    24,  27000],\n",
       "       [    49,  28000],\n",
       "       [    39,  61000],\n",
       "       [    20,  23000],\n",
       "       [    31,  15000],\n",
       "       [    57,  33000],\n",
       "       [    47,  49000],\n",
       "       [    22,  55000],\n",
       "       [    35,  75000],\n",
       "       [    40,  78000],\n",
       "       [    26,  16000],\n",
       "       [    40,  60000],\n",
       "       [    27,  58000],\n",
       "       [    39,  73000],\n",
       "       [    42,  73000],\n",
       "       [    26,  80000],\n",
       "       [    48, 119000],\n",
       "       [    36, 144000],\n",
       "       [    36,  75000],\n",
       "       [    35,  53000],\n",
       "       [    41,  52000],\n",
       "       [    54, 108000],\n",
       "       [    59, 143000],\n",
       "       [    43, 133000],\n",
       "       [    46,  28000],\n",
       "       [    46,  74000],\n",
       "       [    28,  44000],\n",
       "       [    29,  43000],\n",
       "       [    41,  71000],\n",
       "       [    24,  89000],\n",
       "       [    27,  89000],\n",
       "       [    32,  18000],\n",
       "       [    30,  80000]], dtype=int64)"
      ]
     },
     "execution_count": 10,
     "metadata": {},
     "output_type": "execute_result"
    }
   ],
   "source": [
    " X_test"
   ]
  },
  {
   "cell_type": "code",
   "execution_count": 11,
   "metadata": {},
   "outputs": [],
   "source": [
    "#feature scaling\n",
    "from sklearn.preprocessing import StandardScaler"
   ]
  },
  {
   "cell_type": "code",
   "execution_count": 12,
   "metadata": {},
   "outputs": [],
   "source": [
    "sc = StandardScaler()"
   ]
  },
  {
   "cell_type": "code",
   "execution_count": 13,
   "metadata": {},
   "outputs": [],
   "source": [
    "X_train = sc.fit_transform(X_train)\n",
    "X_test = sc.transform(X_test)"
   ]
  },
  {
   "cell_type": "code",
   "execution_count": 14,
   "metadata": {},
   "outputs": [
    {
     "data": {
      "text/plain": [
       "array([[-3.63736377e-01, -7.93123138e-01],\n",
       "       [-3.63736377e-01,  1.23327803e+00],\n",
       "       [-2.68564144e-01, -3.52601145e-01],\n",
       "       [-1.60097540e+00, -5.89198165e-02],\n",
       "       [-8.39597541e-01,  2.29053081e+00],\n",
       "       [ 3.02469252e-01, -2.93864879e-01],\n",
       "       [-1.12511424e+00,  1.40948683e+00],\n",
       "       [-2.68564144e-01,  2.26116268e+00],\n",
       "       [-2.68564144e-01, -9.39963802e-01],\n",
       "       [-1.12511424e+00, -1.61543086e+00],\n",
       "       [-2.68564144e-01,  5.85527148e-02],\n",
       "       [ 2.07297019e-01,  1.46657113e-01],\n",
       "       [ 1.44453605e+00,  3.52234043e-01],\n",
       "       [ 9.68674881e-01,  2.08495388e+00],\n",
       "       [-1.02994201e+00,  4.10970309e-01],\n",
       "       [-1.50580317e+00,  3.22865910e-01],\n",
       "       [ 1.12124787e-01,  2.91845820e-02],\n",
       "       [-1.31545870e+00, -1.38048579e+00],\n",
       "       [ 2.01556944e+00,  3.81602176e-01],\n",
       "       [ 1.12124787e-01,  2.64129645e-01],\n",
       "       [ 1.06384711e+00,  1.17288981e-01],\n",
       "       [ 8.73502649e-01, -1.32174953e+00],\n",
       "       [ 1.34936381e+00,  5.87179106e-01],\n",
       "       [-1.73391912e-01, -5.87546208e-01],\n",
       "       [-1.02994201e+00, -3.81969278e-01],\n",
       "       [ 7.78330416e-01, -3.23233012e-01],\n",
       "       [-1.02994201e+00,  7.63387903e-01],\n",
       "       [ 1.15901935e+00, -9.98700067e-01],\n",
       "       [-7.82196788e-02, -1.83550830e-04],\n",
       "       [-4.58908610e-01, -2.95516837e-02],\n",
       "       [ 2.01556944e+00, -8.22491270e-01],\n",
       "       [ 4.92813718e-01,  1.73253629e+00],\n",
       "       [ 3.02469252e-01,  4.99074707e-01],\n",
       "       [ 3.97641485e-01, -1.47024215e-01],\n",
       "       [-1.31545870e+00, -1.11617260e+00],\n",
       "       [ 7.78330416e-01,  3.52234043e-01],\n",
       "       [-6.49253075e-01,  1.76025246e-01],\n",
       "       [ 3.02469252e-01, -5.28809942e-01],\n",
       "       [ 6.83158183e-01, -1.40985393e+00],\n",
       "       [-1.60097540e+00, -1.58606272e+00],\n",
       "       [ 2.01556944e+00,  5.28442840e-01],\n",
       "       [-1.73391912e-01, -1.08680447e+00],\n",
       "       [-7.82196788e-02, -1.08680447e+00],\n",
       "       [-4.58908610e-01, -5.58178075e-01],\n",
       "       [-7.44425308e-01,  4.99074707e-01],\n",
       "       [-1.88649210e+00,  4.69706575e-01],\n",
       "       [-9.34769773e-01,  1.55632749e+00],\n",
       "       [-1.31545870e+00, -1.26301326e+00],\n",
       "       [ 1.06384711e+00, -1.23364513e+00],\n",
       "       [ 1.12124787e-01, -2.64496746e-01],\n",
       "       [-1.69614764e+00, -1.38048579e+00],\n",
       "       [-6.49253075e-01, -1.61543086e+00],\n",
       "       [ 1.82522498e+00, -1.08680447e+00],\n",
       "       [ 8.73502649e-01, -6.16914340e-01],\n",
       "       [-1.50580317e+00, -4.40705543e-01],\n",
       "       [-2.68564144e-01,  1.46657113e-01],\n",
       "       [ 2.07297019e-01,  2.34761512e-01],\n",
       "       [-1.12511424e+00, -1.58606272e+00],\n",
       "       [ 2.07297019e-01, -2.93864879e-01],\n",
       "       [-1.02994201e+00, -3.52601145e-01],\n",
       "       [ 1.12124787e-01,  8.79208477e-02],\n",
       "       [ 3.97641485e-01,  8.79208477e-02],\n",
       "       [-1.12511424e+00,  2.93497778e-01],\n",
       "       [ 9.68674881e-01,  1.43885496e+00],\n",
       "       [-1.73391912e-01,  2.17305828e+00],\n",
       "       [-1.73391912e-01,  1.46657113e-01],\n",
       "       [-2.68564144e-01, -4.99441809e-01],\n",
       "       [ 3.02469252e-01, -5.28809942e-01],\n",
       "       [ 1.53970828e+00,  1.11580550e+00],\n",
       "       [ 2.01556944e+00,  2.14369015e+00],\n",
       "       [ 4.92813718e-01,  1.85000882e+00],\n",
       "       [ 7.78330416e-01, -1.23364513e+00],\n",
       "       [ 7.78330416e-01,  1.17288981e-01],\n",
       "       [-9.34769773e-01, -7.63755005e-01],\n",
       "       [-8.39597541e-01, -7.93123138e-01],\n",
       "       [ 3.02469252e-01,  2.91845820e-02],\n",
       "       [-1.31545870e+00,  5.57810973e-01],\n",
       "       [-1.02994201e+00,  5.57810973e-01],\n",
       "       [-5.54080842e-01, -1.52732646e+00],\n",
       "       [-7.44425308e-01,  2.93497778e-01]])"
      ]
     },
     "execution_count": 14,
     "metadata": {},
     "output_type": "execute_result"
    }
   ],
   "source": [
    "X_test"
   ]
  },
  {
   "cell_type": "code",
   "execution_count": 15,
   "metadata": {},
   "outputs": [],
   "source": [
    "from sklearn.svm import SVC"
   ]
  },
  {
   "cell_type": "code",
   "execution_count": 16,
   "metadata": {},
   "outputs": [
    {
     "data": {
      "text/plain": [
       "SVC(kernel='linear')"
      ]
     },
     "execution_count": 16,
     "metadata": {},
     "output_type": "execute_result"
    }
   ],
   "source": [
    "classifier = SVC(kernel='linear')\n",
    "classifier.fit(X_train,y_train.ravel())"
   ]
  },
  {
   "cell_type": "code",
   "execution_count": 17,
   "metadata": {},
   "outputs": [],
   "source": [
    "y_predictor = classifier.predict(X_test)"
   ]
  },
  {
   "cell_type": "code",
   "execution_count": 18,
   "metadata": {},
   "outputs": [
    {
     "data": {
      "text/plain": [
       "array([0, 0, 0, 0, 0, 0, 0, 1, 0, 0, 0, 0, 1, 1, 0, 0, 0, 0, 1, 0, 1, 0,\n",
       "       1, 0, 0, 1, 0, 1, 0, 0, 1, 1, 1, 0, 0, 1, 0, 0, 0, 0, 1, 0, 0, 0,\n",
       "       0, 0, 0, 0, 1, 0, 0, 0, 1, 1, 0, 0, 0, 0, 0, 0, 0, 1, 0, 1, 1, 0,\n",
       "       0, 0, 1, 1, 1, 0, 1, 0, 0, 0, 0, 0, 0, 0], dtype=int64)"
      ]
     },
     "execution_count": 18,
     "metadata": {},
     "output_type": "execute_result"
    }
   ],
   "source": [
    "y_predictor"
   ]
  },
  {
   "cell_type": "code",
   "execution_count": 19,
   "metadata": {},
   "outputs": [],
   "source": [
    "#creating confusion matrix\n",
    "from sklearn.metrics import confusion_matrix"
   ]
  },
  {
   "cell_type": "code",
   "execution_count": 20,
   "metadata": {},
   "outputs": [],
   "source": [
    "errors = confusion_matrix(y_test,y_predictor)"
   ]
  },
  {
   "cell_type": "code",
   "execution_count": 21,
   "metadata": {},
   "outputs": [
    {
     "data": {
      "text/plain": [
       "array([[49,  8],\n",
       "       [ 8, 15]], dtype=int64)"
      ]
     },
     "execution_count": 21,
     "metadata": {},
     "output_type": "execute_result"
    }
   ],
   "source": [
    "errors"
   ]
  },
  {
   "cell_type": "code",
   "execution_count": null,
   "metadata": {},
   "outputs": [],
   "source": []
  }
 ],
 "metadata": {
  "kernelspec": {
   "display_name": "Python 3",
   "language": "python",
   "name": "python3"
  },
  "language_info": {
   "codemirror_mode": {
    "name": "ipython",
    "version": 3
   },
   "file_extension": ".py",
   "mimetype": "text/x-python",
   "name": "python",
   "nbconvert_exporter": "python",
   "pygments_lexer": "ipython3",
   "version": "3.8.3"
  }
 },
 "nbformat": 4,
 "nbformat_minor": 4
}
