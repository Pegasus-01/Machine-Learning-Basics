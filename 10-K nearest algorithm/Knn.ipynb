{
 "cells": [
  {
   "cell_type": "code",
   "execution_count": 39,
   "metadata": {},
   "outputs": [],
   "source": [
    "import os"
   ]
  },
  {
   "cell_type": "code",
   "execution_count": 40,
   "metadata": {},
   "outputs": [
    {
     "name": "stdout",
     "output_type": "stream",
     "text": [
      "['.ipynb_checkpoints', 'Knn.ipynb', 'Social_Network_Ads.csv', 'Untitled.ipynb']\n"
     ]
    }
   ],
   "source": [
    "print(os.listdir())"
   ]
  },
  {
   "cell_type": "code",
   "execution_count": 41,
   "metadata": {},
   "outputs": [],
   "source": [
    "import numpy as np\n",
    "import pandas as pd\n",
    "import matplotlib.pyplot as plt"
   ]
  },
  {
   "cell_type": "code",
   "execution_count": 42,
   "metadata": {},
   "outputs": [],
   "source": [
    "data = pd.read_csv('Social_Network_Ads.csv')"
   ]
  },
  {
   "cell_type": "code",
   "execution_count": 43,
   "metadata": {},
   "outputs": [
    {
     "data": {
      "text/html": [
       "<div>\n",
       "<style scoped>\n",
       "    .dataframe tbody tr th:only-of-type {\n",
       "        vertical-align: middle;\n",
       "    }\n",
       "\n",
       "    .dataframe tbody tr th {\n",
       "        vertical-align: top;\n",
       "    }\n",
       "\n",
       "    .dataframe thead th {\n",
       "        text-align: right;\n",
       "    }\n",
       "</style>\n",
       "<table border=\"1\" class=\"dataframe\">\n",
       "  <thead>\n",
       "    <tr style=\"text-align: right;\">\n",
       "      <th></th>\n",
       "      <th>User ID</th>\n",
       "      <th>Gender</th>\n",
       "      <th>Age</th>\n",
       "      <th>EstimatedSalary</th>\n",
       "      <th>Purchased</th>\n",
       "    </tr>\n",
       "  </thead>\n",
       "  <tbody>\n",
       "    <tr>\n",
       "      <th>0</th>\n",
       "      <td>15624510</td>\n",
       "      <td>Male</td>\n",
       "      <td>19</td>\n",
       "      <td>19000</td>\n",
       "      <td>0</td>\n",
       "    </tr>\n",
       "    <tr>\n",
       "      <th>1</th>\n",
       "      <td>15810944</td>\n",
       "      <td>Male</td>\n",
       "      <td>35</td>\n",
       "      <td>20000</td>\n",
       "      <td>0</td>\n",
       "    </tr>\n",
       "    <tr>\n",
       "      <th>2</th>\n",
       "      <td>15668575</td>\n",
       "      <td>Female</td>\n",
       "      <td>26</td>\n",
       "      <td>43000</td>\n",
       "      <td>0</td>\n",
       "    </tr>\n",
       "    <tr>\n",
       "      <th>3</th>\n",
       "      <td>15603246</td>\n",
       "      <td>Female</td>\n",
       "      <td>27</td>\n",
       "      <td>57000</td>\n",
       "      <td>0</td>\n",
       "    </tr>\n",
       "    <tr>\n",
       "      <th>4</th>\n",
       "      <td>15804002</td>\n",
       "      <td>Male</td>\n",
       "      <td>19</td>\n",
       "      <td>76000</td>\n",
       "      <td>0</td>\n",
       "    </tr>\n",
       "  </tbody>\n",
       "</table>\n",
       "</div>"
      ],
      "text/plain": [
       "    User ID  Gender  Age  EstimatedSalary  Purchased\n",
       "0  15624510    Male   19            19000          0\n",
       "1  15810944    Male   35            20000          0\n",
       "2  15668575  Female   26            43000          0\n",
       "3  15603246  Female   27            57000          0\n",
       "4  15804002    Male   19            76000          0"
      ]
     },
     "execution_count": 43,
     "metadata": {},
     "output_type": "execute_result"
    }
   ],
   "source": [
    "data.head()"
   ]
  },
  {
   "cell_type": "code",
   "execution_count": 44,
   "metadata": {},
   "outputs": [
    {
     "name": "stdout",
     "output_type": "stream",
     "text": [
      "<class 'pandas.core.frame.DataFrame'>\n",
      "RangeIndex: 400 entries, 0 to 399\n",
      "Data columns (total 5 columns):\n",
      " #   Column           Non-Null Count  Dtype \n",
      "---  ------           --------------  ----- \n",
      " 0   User ID          400 non-null    int64 \n",
      " 1   Gender           400 non-null    object\n",
      " 2   Age              400 non-null    int64 \n",
      " 3   EstimatedSalary  400 non-null    int64 \n",
      " 4   Purchased        400 non-null    int64 \n",
      "dtypes: int64(4), object(1)\n",
      "memory usage: 15.8+ KB\n"
     ]
    }
   ],
   "source": [
    "data.info()"
   ]
  },
  {
   "cell_type": "code",
   "execution_count": 45,
   "metadata": {},
   "outputs": [],
   "source": [
    "X = data.iloc[:,[2,3]].values\n",
    "y= data.iloc[:,4].values"
   ]
  },
  {
   "cell_type": "code",
   "execution_count": 46,
   "metadata": {},
   "outputs": [
    {
     "data": {
      "text/plain": [
       "array([0, 0, 0, 0, 0, 0, 0, 1, 0, 0, 0, 0, 0, 0, 0, 0, 1, 1, 1, 1, 1, 1,\n",
       "       1, 1, 1, 1, 1, 1, 0, 0, 0, 1, 0, 0, 0, 0, 0, 0, 0, 0, 0, 0, 0, 0,\n",
       "       0, 0, 0, 0, 1, 0, 0, 0, 0, 0, 0, 0, 0, 0, 0, 0, 0, 0, 0, 1, 0, 0,\n",
       "       0, 0, 0, 0, 0, 0, 0, 0, 0, 1, 0, 0, 0, 0, 0, 0, 0, 0, 0, 1, 0, 0,\n",
       "       0, 0, 0, 0, 0, 0, 0, 0, 0, 1, 0, 0, 0, 0, 0, 1, 0, 0, 0, 0, 0, 0,\n",
       "       0, 0, 0, 0, 0, 0, 0, 0, 0, 0, 0, 0, 0, 0, 0, 0, 0, 0, 0, 0, 0, 0,\n",
       "       0, 0, 0, 0, 0, 1, 0, 0, 0, 0, 0, 0, 0, 0, 1, 0, 0, 0, 0, 0, 0, 0,\n",
       "       0, 0, 0, 0, 0, 1, 1, 0, 0, 0, 0, 0, 0, 0, 1, 0, 0, 0, 0, 0, 0, 0,\n",
       "       0, 0, 0, 0, 0, 0, 1, 0, 0, 0, 0, 0, 0, 0, 0, 0, 0, 0, 0, 0, 0, 0,\n",
       "       0, 0, 0, 0, 1, 0, 1, 0, 1, 0, 1, 0, 1, 1, 0, 0, 0, 1, 0, 0, 0, 1,\n",
       "       0, 1, 1, 1, 0, 0, 1, 1, 0, 1, 1, 0, 1, 1, 0, 1, 0, 0, 0, 1, 1, 0,\n",
       "       1, 1, 0, 1, 0, 1, 0, 1, 0, 0, 1, 1, 0, 1, 0, 0, 1, 1, 0, 1, 1, 0,\n",
       "       1, 1, 0, 0, 1, 0, 0, 1, 1, 1, 1, 1, 0, 1, 1, 1, 1, 0, 1, 1, 0, 1,\n",
       "       0, 1, 0, 1, 1, 1, 1, 0, 0, 0, 1, 1, 0, 1, 1, 1, 1, 1, 0, 0, 0, 1,\n",
       "       1, 0, 0, 1, 0, 1, 0, 1, 1, 0, 1, 0, 1, 1, 0, 1, 1, 0, 0, 0, 1, 1,\n",
       "       0, 1, 0, 0, 1, 0, 1, 0, 0, 1, 1, 0, 0, 1, 1, 0, 1, 1, 0, 0, 1, 0,\n",
       "       1, 0, 1, 1, 1, 0, 1, 0, 1, 1, 1, 0, 1, 1, 1, 1, 0, 1, 1, 1, 0, 1,\n",
       "       0, 1, 0, 0, 1, 1, 0, 1, 1, 1, 1, 1, 1, 0, 1, 1, 1, 1, 1, 1, 0, 1,\n",
       "       1, 1, 0, 1], dtype=int64)"
      ]
     },
     "execution_count": 46,
     "metadata": {},
     "output_type": "execute_result"
    }
   ],
   "source": [
    "y"
   ]
  },
  {
   "cell_type": "code",
   "execution_count": 47,
   "metadata": {},
   "outputs": [],
   "source": [
    "from sklearn.model_selection import train_test_split"
   ]
  },
  {
   "cell_type": "code",
   "execution_count": 48,
   "metadata": {},
   "outputs": [],
   "source": [
    "xtrain,xtest,ytrain,ytest=train_test_split(X,y,test_size=0.3)"
   ]
  },
  {
   "cell_type": "code",
   "execution_count": 49,
   "metadata": {},
   "outputs": [
    {
     "data": {
      "text/plain": [
       "array([0, 0, 1, 0, 0, 1, 1, 0, 0, 1, 0, 0, 0, 0, 1, 1, 1, 0, 0, 0, 1, 1,\n",
       "       0, 0, 0, 0, 0, 0, 1, 0, 0, 1, 0, 0, 1, 0, 0, 1, 0, 0, 0, 0, 0, 1,\n",
       "       0, 1, 0, 0, 0, 0, 1, 1, 0, 0, 0, 0, 1, 0, 0, 0, 1, 0, 0, 0, 0, 1,\n",
       "       1, 0, 1, 0, 1, 0, 0, 0, 0, 0, 0, 0, 0, 0, 1, 1, 0, 0, 0, 1, 0, 1,\n",
       "       0, 0, 0, 0, 0, 0, 1, 0, 0, 0, 0, 1, 0, 0, 1, 0, 0, 0, 0, 0, 0, 1,\n",
       "       0, 1, 1, 0, 1, 0, 1, 1, 1, 1], dtype=int64)"
      ]
     },
     "execution_count": 49,
     "metadata": {},
     "output_type": "execute_result"
    }
   ],
   "source": [
    "ytest"
   ]
  },
  {
   "cell_type": "code",
   "execution_count": 50,
   "metadata": {},
   "outputs": [
    {
     "data": {
      "text/plain": [
       "array([[    28,  85000],\n",
       "       [    21,  16000],\n",
       "       [    37,  78000],\n",
       "       [    28,  59000],\n",
       "       [    37,  55000],\n",
       "       [    49,  88000],\n",
       "       [    32, 150000],\n",
       "       [    27,  17000],\n",
       "       [    40,  75000],\n",
       "       [    35,  91000],\n",
       "       [    35,  57000],\n",
       "       [    19,  70000],\n",
       "       [    29,  47000],\n",
       "       [    26,  35000],\n",
       "       [    57,  33000],\n",
       "       [    53, 143000],\n",
       "       [    36, 118000],\n",
       "       [    27,  57000],\n",
       "       [    30,  62000],\n",
       "       [    19,  85000],\n",
       "       [    55,  39000],\n",
       "       [    40,  71000],\n",
       "       [    31,  15000],\n",
       "       [    37,  71000],\n",
       "       [    24,  55000],\n",
       "       [    37,  52000],\n",
       "       [    35,  58000],\n",
       "       [    34,  43000],\n",
       "       [    42,  90000],\n",
       "       [    40,  78000],\n",
       "       [    28,  44000],\n",
       "       [    49,  28000],\n",
       "       [    41,  72000],\n",
       "       [    26,  15000],\n",
       "       [    42,  80000],\n",
       "       [    29,  83000],\n",
       "       [    25,  79000],\n",
       "       [    57,  26000],\n",
       "       [    28,  37000],\n",
       "       [    52, 114000],\n",
       "       [    23,  20000],\n",
       "       [    30, 116000],\n",
       "       [    49,  65000],\n",
       "       [    54, 108000],\n",
       "       [    45,  79000],\n",
       "       [    48,  41000],\n",
       "       [    37,  80000],\n",
       "       [    38,  61000],\n",
       "       [    26,  52000],\n",
       "       [    41,  79000],\n",
       "       [    30, 135000],\n",
       "       [    60,  42000],\n",
       "       [    28,  32000],\n",
       "       [    30,  79000],\n",
       "       [    40,  72000],\n",
       "       [    29,  80000],\n",
       "       [    37, 146000],\n",
       "       [    37,  80000],\n",
       "       [    34,  25000],\n",
       "       [    47,  47000],\n",
       "       [    39, 134000],\n",
       "       [    35,  73000],\n",
       "       [    28,  87000],\n",
       "       [    27,  31000],\n",
       "       [    24,  55000],\n",
       "       [    48,  74000],\n",
       "       [    37,  70000],\n",
       "       [    26,  15000],\n",
       "       [    52, 138000],\n",
       "       [    35,  38000],\n",
       "       [    41,  87000],\n",
       "       [    42,  65000],\n",
       "       [    29,  28000],\n",
       "       [    23,  28000],\n",
       "       [    25,  87000],\n",
       "       [    41,  30000],\n",
       "       [    32,  18000],\n",
       "       [    35,  39000],\n",
       "       [    35,  72000],\n",
       "       [    35,  71000],\n",
       "       [    42, 104000],\n",
       "       [    53,  82000],\n",
       "       [    36,  54000],\n",
       "       [    20,  49000],\n",
       "       [    40,  59000],\n",
       "       [    48,  35000],\n",
       "       [    22,  27000],\n",
       "       [    48, 131000],\n",
       "       [    19,  76000],\n",
       "       [    41,  59000],\n",
       "       [    23,  82000],\n",
       "       [    38,  51000],\n",
       "       [    35,  50000],\n",
       "       [    35,  22000],\n",
       "       [    34, 112000],\n",
       "       [    19,  21000],\n",
       "       [    20,  23000],\n",
       "       [    59,  42000],\n",
       "       [    31,  18000],\n",
       "       [    32, 100000],\n",
       "       [    20,  82000],\n",
       "       [    36,  63000],\n",
       "       [    48, 134000],\n",
       "       [    27,  54000],\n",
       "       [    41,  72000],\n",
       "       [    39,  79000],\n",
       "       [    35,  75000],\n",
       "       [    26,  80000],\n",
       "       [    41,  60000],\n",
       "       [    60,  42000],\n",
       "       [    26,  16000],\n",
       "       [    55, 130000],\n",
       "       [    49,  28000],\n",
       "       [    23,  63000],\n",
       "       [    54,  70000],\n",
       "       [    24,  84000],\n",
       "       [    58,  38000],\n",
       "       [    47,  30000],\n",
       "       [    39, 106000],\n",
       "       [    37, 144000]], dtype=int64)"
      ]
     },
     "execution_count": 50,
     "metadata": {},
     "output_type": "execute_result"
    }
   ],
   "source": [
    "xtest"
   ]
  },
  {
   "cell_type": "code",
   "execution_count": 51,
   "metadata": {},
   "outputs": [],
   "source": [
    "#feature scaling"
   ]
  },
  {
   "cell_type": "code",
   "execution_count": 52,
   "metadata": {},
   "outputs": [],
   "source": [
    "from sklearn.preprocessing import StandardScaler"
   ]
  },
  {
   "cell_type": "code",
   "execution_count": 53,
   "metadata": {},
   "outputs": [],
   "source": [
    "sc =StandardScaler()"
   ]
  },
  {
   "cell_type": "code",
   "execution_count": 54,
   "metadata": {},
   "outputs": [],
   "source": [
    "xtrain = sc.fit_transform(xtrain)\n",
    "xtest = sc.transform(xtest)"
   ]
  },
  {
   "cell_type": "code",
   "execution_count": 55,
   "metadata": {},
   "outputs": [
    {
     "data": {
      "text/plain": [
       "array([[ 0.83902634, -1.50202819],\n",
       "       [ 0.07097607,  1.82746764],\n",
       "       [ 2.08710802,  0.89287232],\n",
       "       [ 2.08710802,  0.33795634],\n",
       "       [-0.69707419, -1.09314274],\n",
       "       [ 0.35899492, -0.21695963],\n",
       "       [ 0.93503262, -1.12234885],\n",
       "       [-1.17710561, -1.58964651],\n",
       "       [-1.36911817, -1.29758547],\n",
       "       [ 1.41506404,  0.0166892 ],\n",
       "       [ 1.12704519, -0.8010817 ],\n",
       "       [-0.69707419, -0.10013521],\n",
       "       [-1.94515587, -0.10013521],\n",
       "       [-0.12103649,  0.16271972],\n",
       "       [ 0.07097607, -0.36299015],\n",
       "       [ 0.35899492, -0.04172301],\n",
       "       [ 1.03103891, -0.94711222],\n",
       "       [ 0.26298864, -0.7718756 ],\n",
       "       [ 0.74302006, -1.44361599],\n",
       "       [-0.21704278, -0.62584508],\n",
       "       [ 0.74302006,  0.22113193],\n",
       "       [ 0.07097607, -0.0125169 ],\n",
       "       [-0.79308047,  0.51319297],\n",
       "       [-1.08109932,  0.48398686],\n",
       "       [-1.17710561, -0.83028781],\n",
       "       [ 1.89509545, -0.71346339],\n",
       "       [-0.02503021,  1.18493335],\n",
       "       [ 2.08710802, -1.09314274],\n",
       "       [ 1.03103891, -1.03473053],\n",
       "       [-1.75314331,  0.07510141],\n",
       "       [ 0.83902634, -0.65505118],\n",
       "       [ 0.07097607,  0.10430751],\n",
       "       [ 0.35899492, -0.53822677],\n",
       "       [ 0.74302006,  0.30875024],\n",
       "       [ 0.16698236,  1.03890283],\n",
       "       [ 0.93503262, -1.20996716],\n",
       "       [-1.84914959, -1.5312343 ],\n",
       "       [-1.65713702,  0.48398686],\n",
       "       [ 1.79908917, -0.33378404],\n",
       "       [ 1.31905775, -0.97631833],\n",
       "       [-0.98509304, -0.36299015],\n",
       "       [ 0.74302006, -1.15155495],\n",
       "       [ 1.79908917,  0.07510141],\n",
       "       [-0.79308047,  0.25033803],\n",
       "       [-0.79308047,  1.03890283],\n",
       "       [ 0.64701377, -1.44361599],\n",
       "       [-0.12103649, -1.12234885],\n",
       "       [-0.12103649,  0.07510141],\n",
       "       [-0.31304906, -0.18775352],\n",
       "       [-1.75314331,  0.42557466],\n",
       "       [ 0.74302006, -0.88870002],\n",
       "       [ 1.99110174, -1.23917326],\n",
       "       [ 0.35899492,  0.25033803],\n",
       "       [-0.02503021, -0.18775352],\n",
       "       [-0.88908676, -0.30457794],\n",
       "       [-0.31304906,  0.22113193],\n",
       "       [-1.56113074, -0.24616573],\n",
       "       [ 1.89509545,  2.11952867],\n",
       "       [ 1.51107032, -1.32679157],\n",
       "       [ 0.83902634, -0.83028781],\n",
       "       [ 2.08710802,  1.06810894],\n",
       "       [-0.69707419, -0.39219625],\n",
       "       [-1.65713702, -0.10013521],\n",
       "       [-1.27311189,  0.25033803],\n",
       "       [-0.69707419,  0.51319297],\n",
       "       [ 0.07097607, -0.85949391],\n",
       "       [-1.27311189, -1.44361599],\n",
       "       [-0.98509304,  0.22113193],\n",
       "       [-0.31304906,  0.7468418 ],\n",
       "       [-1.17710561, -1.15155495],\n",
       "       [-0.98509304,  0.51319297],\n",
       "       [ 0.16698236, -0.42140235],\n",
       "       [-0.31304906,  0.0166892 ],\n",
       "       [ 1.89509545, -1.41440988],\n",
       "       [ 0.64701377, -1.15155495],\n",
       "       [-0.60106791,  0.42557466],\n",
       "       [ 0.83902634,  2.11952867],\n",
       "       [-0.88908676,  2.23635309],\n",
       "       [ 1.99110174,  0.48398686],\n",
       "       [-0.60106791,  1.41858218],\n",
       "       [-1.17710561,  1.36016998],\n",
       "       [ 1.31905775, -1.47282209],\n",
       "       [-0.31304906, -0.30457794],\n",
       "       [-0.50506163,  2.26555919],\n",
       "       [-0.12103649,  0.63001738],\n",
       "       [-0.69707419, -0.0125169 ],\n",
       "       [-1.94515587, -0.8010817 ],\n",
       "       [-0.50506163, -0.33378404],\n",
       "       [ 0.26298864, -0.0125169 ],\n",
       "       [-0.02503021, -0.47981456],\n",
       "       [-0.98509304, -0.47981456],\n",
       "       [-0.88908676, -0.83028781],\n",
       "       [ 0.45500121,  1.18493335],\n",
       "       [-0.60106791,  1.33096387],\n",
       "       [ 0.93503262,  1.94429205],\n",
       "       [ 1.89509545,  0.86366621],\n",
       "       [-0.21704278, -0.56743287],\n",
       "       [ 0.35899492,  0.22113193],\n",
       "       [ 0.45500121,  1.68143712],\n",
       "       [-1.08109932, -1.50202819],\n",
       "       [-1.08109932,  0.54239907],\n",
       "       [ 0.26298864,  0.25033803],\n",
       "       [ 0.16698236, -0.42140235],\n",
       "       [ 0.35899492, -0.50902067],\n",
       "       [ 0.16698236, -0.18775352],\n",
       "       [-0.02503021, -0.30457794],\n",
       "       [-1.36911817, -1.15155495],\n",
       "       [-0.31304906,  0.10430751],\n",
       "       [-1.36911817,  0.51319297],\n",
       "       [ 0.07097607,  0.71763569],\n",
       "       [ 1.03103891,  0.07510141],\n",
       "       [ 1.89509545,  0.68842959],\n",
       "       [ 1.70308289,  1.79826153],\n",
       "       [-0.02503021, -0.62584508],\n",
       "       [ 1.31905775,  2.2947653 ],\n",
       "       [ 0.16698236,  0.10430751],\n",
       "       [ 0.35899492,  1.06810894],\n",
       "       [-0.79308047, -1.58964651],\n",
       "       [ 0.93503262,  2.03191036],\n",
       "       [-0.31304906,  0.16271972],\n",
       "       [-0.21704278, -1.12234885],\n",
       "       [-0.12103649, -0.42140235],\n",
       "       [ 0.07097607, -0.30457794],\n",
       "       [ 0.07097607, -0.85949391],\n",
       "       [ 0.64701377, -0.7718756 ],\n",
       "       [-0.31304906, -1.41440988],\n",
       "       [ 1.79908917,  1.47699439],\n",
       "       [ 1.41506404,  0.95128452],\n",
       "       [-0.02503021, -0.0125169 ],\n",
       "       [ 0.26298864,  0.0166892 ],\n",
       "       [-0.21704278,  2.11952867],\n",
       "       [ 0.35899492,  0.04589531],\n",
       "       [ 1.22305147,  1.82746764],\n",
       "       [-0.31304906, -0.36299015],\n",
       "       [-0.60106791,  1.33096387],\n",
       "       [ 0.83902634, -0.59663898],\n",
       "       [ 0.45500121,  1.79826153],\n",
       "       [-0.98509304,  1.5062005 ],\n",
       "       [ 0.07097607, -0.0125169 ],\n",
       "       [-0.60106791, -1.5604404 ],\n",
       "       [ 0.26298864, -0.56743287],\n",
       "       [-0.88908676, -0.83028781],\n",
       "       [-1.56113074, -0.47981456],\n",
       "       [ 0.74302006,  0.48398686],\n",
       "       [ 0.26298864, -0.59663898],\n",
       "       [-1.27311189, -1.12234885],\n",
       "       [-0.31304906, -0.71346339],\n",
       "       [-0.02503021, -0.36299015],\n",
       "       [ 0.93503262, -1.23917326],\n",
       "       [-0.79308047,  0.45478076],\n",
       "       [-1.08109932,  1.91508595],\n",
       "       [ 0.83902634, -1.41440988],\n",
       "       [-0.31304906, -0.53822677],\n",
       "       [-0.50506163, -0.07092911],\n",
       "       [-0.31304906, -0.8010817 ],\n",
       "       [ 0.74302006,  0.71763569],\n",
       "       [ 1.99110174,  1.71064322],\n",
       "       [-1.56113074,  0.27954414],\n",
       "       [-0.12103649,  0.10430751],\n",
       "       [-0.50506163, -0.88870002],\n",
       "       [ 0.74302006,  0.07510141],\n",
       "       [ 0.35899492,  2.26555919],\n",
       "       [-1.08109932, -0.39219625],\n",
       "       [-0.02503021,  1.21413946],\n",
       "       [ 1.51107032,  0.95128452],\n",
       "       [-1.75314331,  0.30875024],\n",
       "       [-0.50506163, -0.59663898],\n",
       "       [ 1.41506404, -1.09314274],\n",
       "       [ 0.35899492,  0.10430751],\n",
       "       [ 0.55100749, -0.94711222],\n",
       "       [-0.31304906, -1.50202819],\n",
       "       [-0.31304906, -0.47981456],\n",
       "       [-0.40905534,  0.0166892 ],\n",
       "       [-0.98509304,  0.36716245],\n",
       "       [-0.21704278,  1.5646127 ],\n",
       "       [ 1.31905775,  0.54239907],\n",
       "       [-0.50506163, -0.83028781],\n",
       "       [ 0.83902634, -1.09314274],\n",
       "       [ 0.16698236, -0.33378404],\n",
       "       [ 0.35899492, -0.18775352],\n",
       "       [-1.46512446, -0.68425729],\n",
       "       [-0.50506163,  1.21413946],\n",
       "       [ 0.16698236, -0.71346339],\n",
       "       [-0.79308047, -0.65505118],\n",
       "       [-1.46512446, -0.15854742],\n",
       "       [-1.17710561,  0.0166892 ],\n",
       "       [ 0.07097607,  0.16271972],\n",
       "       [ 0.64701377, -1.44361599],\n",
       "       [ 0.74302006,  1.33096387],\n",
       "       [-0.50506163, -1.26837936],\n",
       "       [ 0.35899492, -0.50902067],\n",
       "       [-1.94515587,  0.42557466],\n",
       "       [-1.17710561,  0.27954414],\n",
       "       [-1.27311189,  0.54239907],\n",
       "       [-1.08109932,  0.51319297],\n",
       "       [ 0.74302006, -0.36299015],\n",
       "       [ 2.08710802, -0.7426695 ],\n",
       "       [-0.31304906, -1.29758547],\n",
       "       [ 0.83902634,  0.98049063],\n",
       "       [-0.12103649,  0.22113193],\n",
       "       [ 0.64701377,  1.73984933],\n",
       "       [-0.88908676,  0.33795634],\n",
       "       [-0.12103649,  0.0166892 ],\n",
       "       [ 0.93503262, -1.12234885],\n",
       "       [-1.56113074, -1.5604404 ],\n",
       "       [ 0.83902634,  1.21413946],\n",
       "       [-1.17710561,  0.25033803],\n",
       "       [-1.08109932,  0.71763569],\n",
       "       [-0.31304906, -0.33378404],\n",
       "       [ 0.93503262,  0.54239907],\n",
       "       [-1.84914959, -1.32679157],\n",
       "       [-0.12103649,  1.91508595],\n",
       "       [ 1.99110174,  0.13351362],\n",
       "       [-0.50506163, -1.18076105],\n",
       "       [-0.79308047, -1.64805871],\n",
       "       [ 1.70308289, -0.33378404],\n",
       "       [-0.69707419,  0.07510141],\n",
       "       [-0.12103649, -0.27537184],\n",
       "       [-0.88908676,  0.10430751],\n",
       "       [ 0.55100749,  1.97349816],\n",
       "       [ 0.74302006, -1.41440988],\n",
       "       [ 0.64701377, -1.32679157],\n",
       "       [-1.84914959, -1.35599768],\n",
       "       [ 0.93503262,  0.71763569],\n",
       "       [ 0.26298864,  0.0166892 ],\n",
       "       [ 1.12704519, -1.50202819],\n",
       "       [-0.31304906, -0.62584508],\n",
       "       [-1.17710561,  0.36716245],\n",
       "       [-0.31304906,  2.20714699],\n",
       "       [ 0.07097607,  1.47699439],\n",
       "       [-1.08109932, -0.39219625],\n",
       "       [-1.17710561,  0.42557466],\n",
       "       [ 0.74302006, -1.26837936],\n",
       "       [ 0.83902634,  1.03890283],\n",
       "       [-0.31304906, -1.35599768],\n",
       "       [ 0.16698236,  2.06111647],\n",
       "       [ 1.12704519,  0.48398686],\n",
       "       [ 1.6070766 ,  1.5646127 ],\n",
       "       [-0.60106791,  1.85667374],\n",
       "       [-0.12103649, -0.53822677],\n",
       "       [ 0.93503262,  1.38937608],\n",
       "       [-0.69707419,  1.36016998],\n",
       "       [ 0.83902634, -0.62584508],\n",
       "       [-0.02503021,  0.25033803],\n",
       "       [-0.21704278,  0.805254  ],\n",
       "       [-0.21704278,  0.10430751],\n",
       "       [-1.36911817, -0.39219625],\n",
       "       [-0.02503021, -0.0125169 ],\n",
       "       [-0.02503021, -0.62584508],\n",
       "       [-1.17710561, -1.20996716],\n",
       "       [-0.31304906,  1.06810894],\n",
       "       [ 1.22305147,  2.17794088],\n",
       "       [ 0.26298864, -0.24616573],\n",
       "       [-1.36911817, -1.5312343 ],\n",
       "       [ 0.83902634, -1.35599768],\n",
       "       [-1.75314331, -1.03473053],\n",
       "       [-0.69707419, -0.15854742],\n",
       "       [ 1.99110174,  0.33795634],\n",
       "       [ 1.03103891,  2.03191036],\n",
       "       [-0.69707419,  0.13351362],\n",
       "       [ 0.16698236, -0.42140235],\n",
       "       [ 1.22305147, -1.41440988],\n",
       "       [ 1.12704519, -1.03473053],\n",
       "       [ 1.03103891,  0.42557466],\n",
       "       [-1.94515587,  0.30875024],\n",
       "       [ 1.99110174,  2.09032257],\n",
       "       [ 1.70308289,  0.95128452],\n",
       "       [-0.40905534,  1.27255166],\n",
       "       [ 1.03103891,  0.51319297],\n",
       "       [ 0.07097607,  0.04589531],\n",
       "       [ 0.16698236, -0.30457794],\n",
       "       [-1.65713702,  0.0166892 ],\n",
       "       [-0.21704278,  1.59381881],\n",
       "       [ 0.26298864, -0.56743287],\n",
       "       [-1.36911817, -1.41440988],\n",
       "       [-0.21704278, -0.33378404],\n",
       "       [-0.31304906,  0.48398686],\n",
       "       [-1.94515587, -0.56743287],\n",
       "       [-1.08109932,  0.36716245],\n",
       "       [-0.40905534, -0.83028781]])"
      ]
     },
     "execution_count": 55,
     "metadata": {},
     "output_type": "execute_result"
    }
   ],
   "source": [
    "xtrain"
   ]
  },
  {
   "cell_type": "markdown",
   "metadata": {},
   "source": [
    "# moving to knn algorithm"
   ]
  },
  {
   "cell_type": "code",
   "execution_count": 56,
   "metadata": {},
   "outputs": [],
   "source": [
    "from sklearn.neighbors import KNeighborsClassifier"
   ]
  },
  {
   "cell_type": "code",
   "execution_count": 57,
   "metadata": {},
   "outputs": [],
   "source": [
    "classifier = KNeighborsClassifier(n_neighbors=5,p=2,metric='minkowski')"
   ]
  },
  {
   "cell_type": "code",
   "execution_count": 58,
   "metadata": {},
   "outputs": [
    {
     "data": {
      "text/plain": [
       "KNeighborsClassifier()"
      ]
     },
     "execution_count": 58,
     "metadata": {},
     "output_type": "execute_result"
    }
   ],
   "source": [
    "classifier.fit(xtrain,ytrain)"
   ]
  },
  {
   "cell_type": "code",
   "execution_count": 59,
   "metadata": {},
   "outputs": [],
   "source": [
    "y_predictor = classifier.predict(xtest)"
   ]
  },
  {
   "cell_type": "code",
   "execution_count": 60,
   "metadata": {},
   "outputs": [
    {
     "data": {
      "text/plain": [
       "array([0, 0, 0, 0, 0, 1, 1, 0, 0, 1, 0, 0, 0, 0, 1, 1, 1, 0, 0, 0, 1, 0,\n",
       "       0, 0, 0, 0, 0, 0, 0, 0, 0, 1, 0, 0, 0, 0, 0, 1, 0, 1, 0, 1, 0, 1,\n",
       "       0, 1, 0, 0, 0, 0, 1, 1, 0, 0, 0, 0, 1, 0, 0, 1, 1, 0, 0, 0, 0, 0,\n",
       "       0, 0, 1, 0, 0, 0, 0, 0, 0, 0, 0, 0, 0, 0, 1, 1, 0, 0, 0, 1, 0, 1,\n",
       "       0, 0, 0, 0, 0, 0, 0, 0, 0, 1, 0, 0, 0, 0, 1, 0, 0, 0, 0, 0, 0, 1,\n",
       "       0, 1, 1, 0, 1, 0, 1, 1, 1, 1], dtype=int64)"
      ]
     },
     "execution_count": 60,
     "metadata": {},
     "output_type": "execute_result"
    }
   ],
   "source": [
    "y_predictor"
   ]
  },
  {
   "cell_type": "code",
   "execution_count": 61,
   "metadata": {},
   "outputs": [],
   "source": [
    "from sklearn.metrics import confusion_matrix"
   ]
  },
  {
   "cell_type": "code",
   "execution_count": 62,
   "metadata": {},
   "outputs": [],
   "source": [
    "cm = confusion_matrix(ytest,y_predictor)"
   ]
  },
  {
   "cell_type": "code",
   "execution_count": 63,
   "metadata": {},
   "outputs": [],
   "source": [
    "%matplotlib inline"
   ]
  },
  {
   "cell_type": "code",
   "execution_count": 64,
   "metadata": {},
   "outputs": [
    {
     "name": "stderr",
     "output_type": "stream",
     "text": [
      "*c* argument looks like a single numeric RGB or RGBA sequence, which should be avoided as value-mapping will have precedence in case its length matches with *x* & *y*.  Please use the *color* keyword-argument or provide a 2-D array with a single row if you intend to specify the same RGB or RGBA value for all points.\n",
      "*c* argument looks like a single numeric RGB or RGBA sequence, which should be avoided as value-mapping will have precedence in case its length matches with *x* & *y*.  Please use the *color* keyword-argument or provide a 2-D array with a single row if you intend to specify the same RGB or RGBA value for all points.\n"
     ]
    },
    {
     "data": {
      "text/plain": [
       "<matplotlib.legend.Legend at 0x1a2b387dd30>"
      ]
     },
     "execution_count": 64,
     "metadata": {},
     "output_type": "execute_result"
    },
    {
     "data": {
      "image/png": "[encoded data removed]",
      "text/plain": [
       "<Figure size 432x288 with 1 Axes>"
      ]
     },
     "metadata": {
      "needs_background": "light"
     },
     "output_type": "display_data"
    }
   ],
   "source": [
    "#for plotting a contour graph\n",
    "# Visualising the Training set results\n",
    "from matplotlib.colors import ListedColormap\n",
    "X_point, y_point = xtrain, ytrain\n",
    "X1, X2 = np.meshgrid(np.arange(start = X_point[:, 0].min() - 1, stop = X_point[:, 0].max() + 1, step = 0.01),\n",
    "                     np.arange(start = X_point[:, 1].min() - 1, stop = X_point[:, 1].max() + 1, step = 0.01))\n",
    "plt.contourf(X1, X2, classifier.predict(np.array([X1.ravel(), X2.ravel()]).T).reshape(X1.shape),\n",
    "             alpha = 0.75, cmap = ListedColormap(('black', 'white')))\n",
    "plt.xlim(X1.min(), X1.max())\n",
    "plt.ylim(X2.min(), X2.max())\n",
    "for i, j in enumerate(np.unique(y_point)):\n",
    "    plt.scatter(X_point[y_point == j, 0], X_point[y_point == j, 1],\n",
    "                c = ListedColormap(('green', 'yellow'))(i), label = j)\n",
    "plt.title('K-NN Training set')\n",
    "plt.xlabel('Age')\n",
    "plt.ylabel('Salary')\n",
    "plt.legend()\n"
   ]
  },
  {
   "cell_type": "code",
   "execution_count": 65,
   "metadata": {},
   "outputs": [
    {
     "name": "stderr",
     "output_type": "stream",
     "text": [
      "*c* argument looks like a single numeric RGB or RGBA sequence, which should be avoided as value-mapping will have precedence in case its length matches with *x* & *y*.  Please use the *color* keyword-argument or provide a 2-D array with a single row if you intend to specify the same RGB or RGBA value for all points.\n",
      "*c* argument looks like a single numeric RGB or RGBA sequence, which should be avoided as value-mapping will have precedence in case its length matches with *x* & *y*.  Please use the *color* keyword-argument or provide a 2-D array with a single row if you intend to specify the same RGB or RGBA value for all points.\n"
     ]
    },
    {
     "data": {
      "text/plain": [
       "<matplotlib.legend.Legend at 0x1a2b3393a90>"
      ]
     },
     "execution_count": 65,
     "metadata": {},
     "output_type": "execute_result"
    },
    {
     "data": {
      "image/png": "[encoded data removed]",
      "text/plain": [
       "<Figure size 432x288 with 1 Axes>"
      ]
     },
     "metadata": {
      "needs_background": "light"
     },
     "output_type": "display_data"
    }
   ],
   "source": [
    "# Visualising the Testing set results\n",
    "from matplotlib.colors import ListedColormap\n",
    "X_point, y_point = xtest, ytest\n",
    "X1, X2 = np.meshgrid(np.arange(start = X_point[:, 0].min() - 1, stop = X_point[:, 0].max() + 1, step = 0.01),\n",
    "                     np.arange(start = X_point[:, 1].min() - 1, stop = X_point[:, 1].max() + 1, step = 0.01))\n",
    "plt.contourf(X1, X2, classifier.predict(np.array([X1.ravel(), X2.ravel()]).T).reshape(X1.shape),\n",
    "             alpha = 0.75, cmap = ListedColormap(('black', 'white')))\n",
    "plt.xlim(X1.min(), X1.max())\n",
    "plt.ylim(X2.min(), X2.max())\n",
    "for i, j in enumerate(np.unique(y_point)):\n",
    "    plt.scatter(X_point[y_point == j, 0], X_point[y_point == j, 1],\n",
    "                c = ListedColormap(('green', 'yellow'))(i), label = j)\n",
    "plt.title('K-NN Training set')\n",
    "plt.xlabel('Age')\n",
    "plt.ylabel('Salary')\n",
    "plt.legend()\n"
   ]
  },
  {
   "cell_type": "code",
   "execution_count": null,
   "metadata": {},
   "outputs": [],
   "source": []
  },
  {
   "cell_type": "code",
   "execution_count": null,
   "metadata": {},
   "outputs": [],
   "source": []
  },
  {
   "cell_type": "code",
   "execution_count": null,
   "metadata": {},
   "outputs": [],
   "source": []
  },
  {
   "cell_type": "code",
   "execution_count": null,
   "metadata": {},
   "outputs": [],
   "source": []
  },
  {
   "cell_type": "code",
   "execution_count": null,
   "metadata": {},
   "outputs": [],
   "source": []
  }
 ],
 "metadata": {
  "kernelspec": {
   "display_name": "Python 3",
   "language": "python",
   "name": "python3"
  },
  "language_info": {
   "codemirror_mode": {
    "name": "ipython",
    "version": 3
   },
   "file_extension": ".py",
   "mimetype": "text/x-python",
   "name": "python",
   "nbconvert_exporter": "python",
   "pygments_lexer": "ipython3",
   "version": "3.8.3"
  }
 },
 "nbformat": 4,
 "nbformat_minor": 4
}
